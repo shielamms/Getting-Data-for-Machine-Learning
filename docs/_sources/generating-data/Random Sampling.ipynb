{
 "cells": [
  {
   "cell_type": "markdown",
   "id": "41544561",
   "metadata": {},
   "source": [
    "# Random sampling"
   ]
  },
  {
   "cell_type": "code",
   "execution_count": 3,
   "id": "11ee0a69",
   "metadata": {},
   "outputs": [],
   "source": [
    "import matplotlib.pyplot as plt\n",
    "import random"
   ]
  },
  {
   "cell_type": "markdown",
   "id": "28afb07e",
   "metadata": {},
   "source": [
    "Say we have a dataset and we want to grab a number of random samples from that dataset. Let's start by grabbing one random sample through the `choice()` function."
   ]
  },
  {
   "cell_type": "code",
   "execution_count": 4,
   "id": "37e1dc35",
   "metadata": {},
   "outputs": [],
   "source": [
    "# Generate numbers from 0 to 9\n",
    "data = [i for i in range(10)]"
   ]
  },
  {
   "cell_type": "code",
   "execution_count": 5,
   "id": "e57ccbf5",
   "metadata": {},
   "outputs": [
    {
     "data": {
      "text/plain": [
       "7"
      ]
     },
     "execution_count": 5,
     "metadata": {},
     "output_type": "execute_result"
    }
   ],
   "source": [
    "random.choice(data)"
   ]
  },
  {
   "cell_type": "markdown",
   "id": "c7f20270",
   "metadata": {},
   "source": [
    "To grab multiple samples, we have the option to allow our samples to be duplicated. We use the `choices()` function for that."
   ]
  },
  {
   "cell_type": "code",
   "execution_count": 6,
   "id": "96c56468",
   "metadata": {},
   "outputs": [
    {
     "data": {
      "text/plain": [
       "[3, 9, 2, 8, 0]"
      ]
     },
     "execution_count": 6,
     "metadata": {},
     "output_type": "execute_result"
    }
   ],
   "source": [
    "# Random choices with duplicates\n",
    "random.choices(data, k=5)"
   ]
  },
  {
   "cell_type": "markdown",
   "id": "c8edc9ae",
   "metadata": {},
   "source": [
    "To grab unique samples from the data (no duplicates), we use the `sample()` function."
   ]
  },
  {
   "cell_type": "code",
   "execution_count": 7,
   "id": "c0743257",
   "metadata": {},
   "outputs": [
    {
     "data": {
      "text/plain": [
       "[0, 2, 5, 9, 4]"
      ]
     },
     "execution_count": 7,
     "metadata": {},
     "output_type": "execute_result"
    }
   ],
   "source": [
    "# Random choices without duplicates\n",
    "random.sample(data, 5)"
   ]
  },
  {
   "cell_type": "code",
   "execution_count": null,
   "id": "828d070a",
   "metadata": {},
   "outputs": [],
   "source": []
  }
 ],
 "metadata": {
  "kernelspec": {
   "display_name": "jupyter-books",
   "language": "python",
   "name": "jupyter-books"
  },
  "language_info": {
   "codemirror_mode": {
    "name": "ipython",
    "version": 3
   },
   "file_extension": ".py",
   "mimetype": "text/x-python",
   "name": "python",
   "nbconvert_exporter": "python",
   "pygments_lexer": "ipython3",
   "version": "3.8.8"
  }
 },
 "nbformat": 4,
 "nbformat_minor": 5
}
