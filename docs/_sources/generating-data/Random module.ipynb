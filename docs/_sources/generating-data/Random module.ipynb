{
 "cells": [
  {
   "cell_type": "markdown",
   "id": "6dbdad39",
   "metadata": {},
   "source": [
    "# Using the random module"
   ]
  },
  {
   "cell_type": "markdown",
   "id": "0abc95b9",
   "metadata": {},
   "source": [
    "Make sure to import everything we need for this notebook first."
   ]
  },
  {
   "cell_type": "code",
   "execution_count": 2,
   "id": "d281c3cf",
   "metadata": {},
   "outputs": [],
   "source": [
    "import matplotlib.pyplot as plt\n",
    "import random\n",
    "import string"
   ]
  },
  {
   "cell_type": "markdown",
   "id": "3776e8d1",
   "metadata": {},
   "source": [
    "## .. but first, let's create our own random function"
   ]
  },
  {
   "cell_type": "markdown",
   "id": "6386ebc2",
   "metadata": {},
   "source": [
    "Python's standard `random` module generates pseudo-random numbers, which means that values only look like truly random values and that they are generated through some deterministic function. There are many different implementations of a pseudo-random generator (one being the [Mersenne Twister](https://en.wikipedia.org/wiki/Mersenne_Twister) which the `random` module uses under the hood), but in fact we can create our own pseudo-random number generator with our own implementation of \"randomness\"."
   ]
  },
  {
   "cell_type": "code",
   "execution_count": 3,
   "id": "67a8fe2d",
   "metadata": {},
   "outputs": [],
   "source": [
    "class PseudoRandom():\n",
    "    def __init__(self, seed=1):\n",
    "        self.seed = seed\n",
    "        \n",
    "    def random(self):\n",
    "        self.seed = (self.seed * 7) % 13\n",
    "        return self.seed"
   ]
  },
  {
   "cell_type": "code",
   "execution_count": 4,
   "id": "a04eb55b",
   "metadata": {},
   "outputs": [
    {
     "data": {
      "text/plain": [
       "[3, 8, 4, 2, 1, 7, 10, 5, 9, 11]"
      ]
     },
     "execution_count": 4,
     "metadata": {},
     "output_type": "execute_result"
    }
   ],
   "source": [
    "random_numbers = PseudoRandom(123)\n",
    "\n",
    "[random_numbers.random() for _ in range(10)]"
   ]
  },
  {
   "cell_type": "markdown",
   "id": "8d8c33ba",
   "metadata": {},
   "source": [
    "Our PseudoRandom class takes in an initial value called a **seed**. Each time the `random()` function is called, the current value of the seed is multiplied by 7 then divided by 13 -- this is our function for \"randomness\". The remainder becomes the new value of the seed until the `random()` function is called again. This makes the function _deterministic_ - if two people initiated the class with the same seed value and called the `random()` function, then they would get the same numbers on each same instance they call `random()`.\n",
    "\n",
    "The above example gives us a basic understanding of how Python's `random` module works. The module has a bunch of pseudo-random number generator functions that we can use for what ever purpose.  In the next sections, I will refer to pseudo-random numbers as just *random* numbers for brevity."
   ]
  },
  {
   "cell_type": "code",
   "execution_count": null,
   "id": "99e89ae2",
   "metadata": {},
   "outputs": [],
   "source": []
  },
  {
   "cell_type": "markdown",
   "id": "5617cb56",
   "metadata": {},
   "source": [
    "## Functions in the `random` module"
   ]
  },
  {
   "cell_type": "markdown",
   "id": "6d408a52",
   "metadata": {},
   "source": [
    "The random() function accepts a seed from which to generate random numbers. If no seed is provided, it uses some source of randomness from your OS (you can read more about pseudo-random generators [here](https://www.random.org/randomness/)) and returns a float from the __standard uniform distribution__ (numbers from 0 to 1)."
   ]
  },
  {
   "cell_type": "code",
   "execution_count": 5,
   "id": "468b1898",
   "metadata": {},
   "outputs": [
    {
     "name": "stdout",
     "output_type": "stream",
     "text": [
      "0.6489066202916949\n",
      "0.31088700567600724\n",
      "0.7954640522784109\n"
     ]
    }
   ],
   "source": [
    "# Unseeded random numbers\n",
    "print(random.random())\n",
    "print(random.random())\n",
    "print(random.random())"
   ]
  },
  {
   "cell_type": "code",
   "execution_count": 294,
   "id": "52cd52a4",
   "metadata": {},
   "outputs": [
    {
     "name": "stdout",
     "output_type": "stream",
     "text": [
      "0.9664535356921388\n",
      "0.4407325991753527\n",
      "0.007491470058587191\n",
      "\n",
      "0.9664535356921388\n",
      "0.4407325991753527\n",
      "0.007491470058587191\n"
     ]
    }
   ],
   "source": [
    "# Seeded random numbers\n",
    "random.seed(1234)\n",
    "print(random.random())\n",
    "print(random.random())\n",
    "print(random.random(), end='\\n\\n')\n",
    "\n",
    "random.seed(1234)\n",
    "print(random.random())\n",
    "print(random.random())\n",
    "print(random.random())"
   ]
  },
  {
   "cell_type": "markdown",
   "id": "b6570c8a",
   "metadata": {},
   "source": [
    "### Random numbers from a uniform distribution"
   ]
  },
  {
   "cell_type": "markdown",
   "id": "f2fb50c5",
   "metadata": {},
   "source": [
    "Numbers in a uniform distribution means that each number has the same probability of being picked as all other numbers. Using the `random()` function picks a number between 0 and 1 by default."
   ]
  },
  {
   "cell_type": "markdown",
   "id": "e6ea20a2",
   "metadata": {},
   "source": [
    "To generate a __random float__ within a custom range of (min, max) values from a uniform distribution, we use the `uniform()` function. This accepts two parameters: the minimum value, and the maximum value. The following will generate a number between 1 and 2 (the discrete number 2 is excluded from the range)."
   ]
  },
  {
   "cell_type": "code",
   "execution_count": 60,
   "id": "d8eb240c",
   "metadata": {},
   "outputs": [
    {
     "data": {
      "text/plain": [
       "1.9701314376170462"
      ]
     },
     "execution_count": 60,
     "metadata": {},
     "output_type": "execute_result"
    }
   ],
   "source": [
    "# random float\n",
    "random.uniform(1, 2)"
   ]
  },
  {
   "cell_type": "markdown",
   "id": "78be6113",
   "metadata": {},
   "source": [
    "To generate a __random integer__ within a range of (min, max) values from a uniform distribution, we can specify a custom range to the `randrange()` function. This will generate a number between the minimum value (inclusive) and the maximum value (exclusive)."
   ]
  },
  {
   "cell_type": "code",
   "execution_count": 61,
   "id": "c87d756e",
   "metadata": {},
   "outputs": [
    {
     "data": {
      "text/plain": [
       "41"
      ]
     },
     "execution_count": 61,
     "metadata": {},
     "output_type": "execute_result"
    }
   ],
   "source": [
    "random.randrange(1, 100)"
   ]
  },
  {
   "cell_type": "markdown",
   "id": "b27de089",
   "metadata": {},
   "source": [
    "Now that we know some functions to generate random integers or floats, we can use list comprehension to generate several random values that can serve as our dataset."
   ]
  },
  {
   "cell_type": "markdown",
   "id": "25a67263",
   "metadata": {},
   "source": [
    "For example, we can generate 1000 random integers between 0 and 100 in a uniform distribution."
   ]
  },
  {
   "cell_type": "code",
   "execution_count": 62,
   "id": "fc032174",
   "metadata": {},
   "outputs": [],
   "source": [
    "data = [random.randrange(0, 100) for _ in range(1000)]"
   ]
  },
  {
   "cell_type": "markdown",
   "id": "17e33ca5",
   "metadata": {},
   "source": [
    "We can plot our dataset with matplotlib to visually check the distribution of our random numbers."
   ]
  },
  {
   "cell_type": "code",
   "execution_count": 70,
   "id": "99134a02",
   "metadata": {},
   "outputs": [
    {
     "data": {
      "image/png": "[encoded data removed]",
      "text/plain": [
       "<Figure size 432x288 with 1 Axes>"
      ]
     },
     "metadata": {
      "needs_background": "light"
     },
     "output_type": "display_data"
    }
   ],
   "source": [
    "_ = plt.hist(data, 100)"
   ]
  },
  {
   "cell_type": "markdown",
   "id": "bffa08e1",
   "metadata": {},
   "source": [
    "If we run the dataset cell again, we'll get a different result."
   ]
  },
  {
   "cell_type": "code",
   "execution_count": 69,
   "id": "5932f73e",
   "metadata": {},
   "outputs": [
    {
     "data": {
      "image/png": "[encoded data removed]",
      "text/plain": [
       "<Figure size 432x288 with 1 Axes>"
      ]
     },
     "metadata": {
      "needs_background": "light"
     },
     "output_type": "display_data"
    }
   ],
   "source": [
    "data = [random.randrange(0, 100) for _ in range(1000)]\n",
    "_ = plt.hist(data, 100)"
   ]
  },
  {
   "cell_type": "markdown",
   "id": "46d271db",
   "metadata": {},
   "source": [
    "Notice that while the generated data between two runs are different, their distribution is the same - they are both a uniform distribution of integers from 0 to 100. We can visualise the same distribution of floats from 0 to 100 generated by the `uniform()` function."
   ]
  },
  {
   "cell_type": "code",
   "execution_count": 71,
   "id": "b9f03947",
   "metadata": {
    "scrolled": false
   },
   "outputs": [
    {
     "data": {
      "image/png": "[encoded data removed]",
      "text/plain": [
       "<Figure size 432x288 with 1 Axes>"
      ]
     },
     "metadata": {
      "needs_background": "light"
     },
     "output_type": "display_data"
    }
   ],
   "source": [
    "data = [random.uniform(0, 100) for _ in range(1000)]\n",
    "_ = plt.hist(data, 100)"
   ]
  },
  {
   "cell_type": "markdown",
   "id": "84a74dc3",
   "metadata": {},
   "source": [
    "### Random numbers from a normal distribution"
   ]
  },
  {
   "cell_type": "markdown",
   "id": "e1f6bf68",
   "metadata": {},
   "source": [
    "The normal distribution is also called the *gaussian distribution*. Numbers near the mean of the distribution are more likely to be picked out than the ones at the edges. This gives the plot of a bell shape which centres at the mean of the distribution. To generate a number in a normal distribution, we use the `gauss()` function and specify the mean and the standard deviation.\n",
    "\n",
    "For example, if we want a number from a group of numbers where the mean is 0 and the standard deviation is 2, we write it as:"
   ]
  },
  {
   "cell_type": "code",
   "execution_count": 53,
   "id": "6e240b4f",
   "metadata": {},
   "outputs": [
    {
     "data": {
      "text/plain": [
       "-0.2789882235530813"
      ]
     },
     "execution_count": 53,
     "metadata": {},
     "output_type": "execute_result"
    }
   ],
   "source": [
    "random.gauss(0, 2)"
   ]
  },
  {
   "cell_type": "markdown",
   "id": "2c58d8a7",
   "metadata": {},
   "source": [
    "We can plot down the distribution using matplotlib. The following plots 1000 numbers where the mean is 0 and standard deviation is 2. The graph shows the bell peaking at the mean, and the values are multiples of 2."
   ]
  },
  {
   "cell_type": "code",
   "execution_count": 72,
   "id": "2273e66b",
   "metadata": {},
   "outputs": [
    {
     "data": {
      "image/png": "[encoded data removed]",
      "text/plain": [
       "<Figure size 432x288 with 1 Axes>"
      ]
     },
     "metadata": {
      "needs_background": "light"
     },
     "output_type": "display_data"
    }
   ],
   "source": [
    "data = [random.gauss(0, 2) for _ in range(1000)]\n",
    "n, bins, _ = plt.hist(data, 10)"
   ]
  }
 ],
 "metadata": {
  "kernelspec": {
   "display_name": "ComputerVision",
   "language": "python",
   "name": "computervision"
  },
  "language_info": {
   "codemirror_mode": {
    "name": "ipython",
    "version": 3
   },
   "file_extension": ".py",
   "mimetype": "text/x-python",
   "name": "python",
   "nbconvert_exporter": "python",
   "pygments_lexer": "ipython3",
   "version": "3.8.8"
  }
 },
 "nbformat": 4,
 "nbformat_minor": 5
}
