{
 "cells": [
  {
   "cell_type": "markdown",
   "id": "bbded257",
   "metadata": {},
   "source": [
    "# Using the numpy library"
   ]
  },
  {
   "cell_type": "markdown",
   "id": "68e172af",
   "metadata": {},
   "source": [
    "In the previous section, we were able to generate random numbers using functions in the `random` module. We then made several random numbers using list comprehension."
   ]
  },
  {
   "cell_type": "code",
   "execution_count": 53,
   "id": "fc26b204",
   "metadata": {},
   "outputs": [
    {
     "name": "stdout",
     "output_type": "stream",
     "text": [
      "[26, 83, 68, 78, 71, 18, 19, 17, 29, 55]\n"
     ]
    }
   ],
   "source": [
    "import random\n",
    "\n",
    "print([random.randrange(1, 100) for _ in range(10)])"
   ]
  },
  {
   "cell_type": "markdown",
   "id": "6c581b2d",
   "metadata": {},
   "source": [
    "You'll notice that the `random` module is limited to generating scalar values, and that we need to use for-loops/list comprehensions each time we need an array of values. Numpy is a more powerful library that operates on arrays, and it has its own functions to generate n-dimensional arrays of random values."
   ]
  },
  {
   "cell_type": "code",
   "execution_count": 1,
   "id": "b1e37bcf",
   "metadata": {},
   "outputs": [],
   "source": [
    "import numpy as np"
   ]
  },
  {
   "cell_type": "markdown",
   "id": "02a13130",
   "metadata": {},
   "source": [
    "Numpy has its own `random` module that is different from Python's standard `random` module. The output of numpy's random functions is always a numpy array, which is numpy's basic data structure."
   ]
  },
  {
   "cell_type": "code",
   "execution_count": 12,
   "id": "f89ede79",
   "metadata": {},
   "outputs": [
    {
     "data": {
      "text/plain": [
       "array([ 0.88716294,  0.85958841, -0.6365235 ,  0.01569637, -2.24268495])"
      ]
     },
     "execution_count": 12,
     "metadata": {},
     "output_type": "execute_result"
    }
   ],
   "source": [
    "np.random.randn(5)"
   ]
  },
  {
   "cell_type": "code",
   "execution_count": 13,
   "id": "5b6728ee",
   "metadata": {},
   "outputs": [
    {
     "data": {
      "text/plain": [
       "array([ 1.15003572,  0.99194602,  0.95332413, -2.02125482, -0.33407737])"
      ]
     },
     "execution_count": 13,
     "metadata": {},
     "output_type": "execute_result"
    }
   ],
   "source": [
    "np.random.randn(5)"
   ]
  },
  {
   "cell_type": "markdown",
   "id": "0e5c392d",
   "metadata": {},
   "source": [
    "Similar to the `random` module, we can also provide a seed to `numpy.random`. It's important to note that a seed generated from python's standard `random` module cannot be used as the seed for `numpy.random`."
   ]
  },
  {
   "cell_type": "code",
   "execution_count": 75,
   "id": "b879f71c",
   "metadata": {},
   "outputs": [
    {
     "data": {
      "text/plain": [
       "array([ 0.47143516, -1.19097569,  1.43270697, -0.3126519 , -0.72058873])"
      ]
     },
     "execution_count": 75,
     "metadata": {},
     "output_type": "execute_result"
    }
   ],
   "source": [
    "np.random.seed(1234)\n",
    "np.random.randn(5)"
   ]
  },
  {
   "cell_type": "code",
   "execution_count": 76,
   "id": "e26aefc9",
   "metadata": {},
   "outputs": [
    {
     "data": {
      "text/plain": [
       "array([ 0.47143516, -1.19097569,  1.43270697, -0.3126519 , -0.72058873])"
      ]
     },
     "execution_count": 76,
     "metadata": {},
     "output_type": "execute_result"
    }
   ],
   "source": [
    "np.random.seed(1234)\n",
    "np.random.randn(5)"
   ]
  },
  {
   "cell_type": "code",
   "execution_count": 77,
   "id": "421a5253",
   "metadata": {},
   "outputs": [],
   "source": [
    "np.random.seed()"
   ]
  },
  {
   "cell_type": "markdown",
   "id": "c27e9e85",
   "metadata": {},
   "source": [
    "## Random n-dimensional arrays"
   ]
  },
  {
   "cell_type": "markdown",
   "id": "212bafdf",
   "metadata": {},
   "source": [
    "### Random numpy arrays with a uniform distribution"
   ]
  },
  {
   "cell_type": "markdown",
   "id": "9252e7ee",
   "metadata": {},
   "source": [
    "Numpy operates on arrays of any shape, so we can expect that its `random` module can also generate arrays of any given shape. The `np.rand()` function accepts any number of parameters representing the shape of a multi-dimensional array. For example, we can generate a 2-dimensional array with random values by providing 2 parameters: the size of the 1st dimension, and then size of the 2nd dimension. Note that `np.rand()` generates numbers from the standard uniform distribution (numbers between 0 and 1)."
   ]
  },
  {
   "cell_type": "code",
   "execution_count": 78,
   "id": "83f77dc9",
   "metadata": {},
   "outputs": [
    {
     "data": {
      "text/plain": [
       "array([[0.85381182, 0.64263662, 0.46744531],\n",
       "       [0.31490207, 0.39450126, 0.86477481]])"
      ]
     },
     "execution_count": 78,
     "metadata": {},
     "output_type": "execute_result"
    }
   ],
   "source": [
    "np.random.rand(2,3)"
   ]
  },
  {
   "cell_type": "markdown",
   "id": "d4ce61ec",
   "metadata": {},
   "source": [
    "If we want a 3-dimensional array, we just add the size of the 3rd dimension as another parameter:"
   ]
  },
  {
   "cell_type": "code",
   "execution_count": 33,
   "id": "0c258b52",
   "metadata": {},
   "outputs": [
    {
     "data": {
      "text/plain": [
       "array([[[0.95682669, 0.19091607, 0.91168944, 0.42687669],\n",
       "        [0.75286571, 0.95660295, 0.68008925, 0.62487773],\n",
       "        [0.43191903, 0.61089056, 0.10815171, 0.12708675]],\n",
       "\n",
       "       [[0.66890766, 0.69892975, 0.24025909, 0.72007057],\n",
       "        [0.1420667 , 0.99484696, 0.0824438 , 0.13221827],\n",
       "        [0.62254265, 0.95483232, 0.0801026 , 0.8775663 ]]])"
      ]
     },
     "execution_count": 33,
     "metadata": {},
     "output_type": "execute_result"
    }
   ],
   "source": [
    "np.random.rand(2,3,4)"
   ]
  },
  {
   "cell_type": "markdown",
   "id": "72165d90",
   "metadata": {},
   "source": [
    "And so on, and so forth:"
   ]
  },
  {
   "cell_type": "code",
   "execution_count": 34,
   "id": "691e8d1d",
   "metadata": {},
   "outputs": [
    {
     "data": {
      "text/plain": [
       "array([[[[0.61018294, 0.64916338, 0.2496669 , 0.56943178, 0.89827811],\n",
       "         [0.09490235, 0.15808271, 0.01050206, 0.95640589, 0.78427039],\n",
       "         [0.52955286, 0.78754735, 0.91845589, 0.68610057, 0.40014087],\n",
       "         [0.28261189, 0.57759539, 0.33858805, 0.05575652, 0.53209978]],\n",
       "\n",
       "        [[0.04877894, 0.42830759, 0.23006274, 0.2991963 , 0.20968796],\n",
       "         [0.87126812, 0.61625458, 0.82017763, 0.59112052, 0.25182662],\n",
       "         [0.14199311, 0.97086984, 0.67618787, 0.63142471, 0.90196891],\n",
       "         [0.26919876, 0.73658788, 0.72937868, 0.52926094, 0.22182308]],\n",
       "\n",
       "        [[0.72491996, 0.18721367, 0.52310836, 0.21500944, 0.02727796],\n",
       "         [0.60547998, 0.87753168, 0.90380019, 0.95085905, 0.30540723],\n",
       "         [0.78588423, 0.23794368, 0.76226537, 0.18118892, 0.52526019],\n",
       "         [0.66930527, 0.66149887, 0.17879683, 0.96725338, 0.88541248]]],\n",
       "\n",
       "\n",
       "       [[[0.616901  , 0.97007147, 0.01740106, 0.49686468, 0.30347992],\n",
       "         [0.55123752, 0.49044973, 0.79554612, 0.86876339, 0.65726848],\n",
       "         [0.93868582, 0.30847455, 0.82590284, 0.84308554, 0.37569659],\n",
       "         [0.83521836, 0.29300383, 0.68708694, 0.18337698, 0.93057567]],\n",
       "\n",
       "        [[0.73295593, 0.58401371, 0.18925529, 0.24730134, 0.33484145],\n",
       "         [0.80830053, 0.3083993 , 0.64464326, 0.79452037, 0.08081688],\n",
       "         [0.42265762, 0.10144127, 0.83264753, 0.57034789, 0.90817674],\n",
       "         [0.14384435, 0.85742824, 0.86543916, 0.79187727, 0.47139098]],\n",
       "\n",
       "        [[0.6239408 , 0.09118477, 0.14063733, 0.60755034, 0.66602907],\n",
       "         [0.33657356, 0.63582685, 0.59639617, 0.26189688, 0.43125085],\n",
       "         [0.00410333, 0.9675951 , 0.58109441, 0.92934307, 0.14568038],\n",
       "         [0.13029816, 0.18313358, 0.66103008, 0.62562648, 0.67363079]]]])"
      ]
     },
     "execution_count": 34,
     "metadata": {},
     "output_type": "execute_result"
    }
   ],
   "source": [
    "np.random.rand(2,3,4,5)"
   ]
  },
  {
   "cell_type": "markdown",
   "id": "671e22e9",
   "metadata": {},
   "source": [
    "We can visualize the output of the `rand` function with an arbitrary number of parameters."
   ]
  },
  {
   "cell_type": "code",
   "execution_count": 72,
   "id": "db3c5cb7",
   "metadata": {},
   "outputs": [
    {
     "data": {
      "image/png": "[encoded data removed]",
      "text/plain": [
       "<Figure size 432x288 with 1 Axes>"
      ]
     },
     "metadata": {
      "needs_background": "light"
     },
     "output_type": "display_data"
    }
   ],
   "source": [
    "data_uniform = np.random.rand(1000)\n",
    "n, bins, _ = plt.hist(data_uniform, 100)"
   ]
  },
  {
   "cell_type": "markdown",
   "id": "d0049513",
   "metadata": {},
   "source": [
    "To generate a numpy array of integers, we use the `np.randint()` function, which requires the minimum value, and then optionally the max value and array size. If the size is not specified, the function will return only one number. The following example generates a numpy array of 10 integers whose values range from 1 to 100."
   ]
  },
  {
   "cell_type": "code",
   "execution_count": 122,
   "id": "f3c50285",
   "metadata": {
    "scrolled": true
   },
   "outputs": [
    {
     "data": {
      "image/png": "[encoded data removed]",
      "text/plain": [
       "<Figure size 432x288 with 1 Axes>"
      ]
     },
     "metadata": {
      "needs_background": "light"
     },
     "output_type": "display_data"
    }
   ],
   "source": [
    "data_uniform = np.random.randint(1, 100, 1000)\n",
    "n, bins, _ = plt.hist(data_uniform, 100)"
   ]
  },
  {
   "cell_type": "code",
   "execution_count": null,
   "id": "21668273",
   "metadata": {},
   "outputs": [],
   "source": []
  },
  {
   "cell_type": "markdown",
   "id": "df0ef906",
   "metadata": {},
   "source": [
    "### Random numpy arrays with a normal distribution"
   ]
  },
  {
   "cell_type": "markdown",
   "id": "ffd04fdf",
   "metadata": {},
   "source": [
    "Generating a random numpy array of numbers with a normal distribution is as simple as using the `np.randn()` function."
   ]
  },
  {
   "cell_type": "code",
   "execution_count": 118,
   "id": "88998f20",
   "metadata": {},
   "outputs": [],
   "source": [
    "data_normal = np.random.randn(1000)"
   ]
  },
  {
   "cell_type": "code",
   "execution_count": 119,
   "id": "762e1822",
   "metadata": {},
   "outputs": [
    {
     "data": {
      "image/png": "[encoded data removed]",
      "text/plain": [
       "<Figure size 432x288 with 1 Axes>"
      ]
     },
     "metadata": {
      "needs_background": "light"
     },
     "output_type": "display_data"
    }
   ],
   "source": [
    "import matplotlib.pyplot as plt\n",
    "\n",
    "n, bins, _ = plt.hist(data_normal, 100)"
   ]
  },
  {
   "cell_type": "code",
   "execution_count": null,
   "id": "7c0cc0ea",
   "metadata": {},
   "outputs": [],
   "source": []
  },
  {
   "cell_type": "code",
   "execution_count": null,
   "id": "73217f68",
   "metadata": {},
   "outputs": [],
   "source": []
  },
  {
   "cell_type": "code",
   "execution_count": null,
   "id": "f5c6d528",
   "metadata": {},
   "outputs": [],
   "source": []
  },
  {
   "cell_type": "code",
   "execution_count": null,
   "id": "00a54bbd",
   "metadata": {},
   "outputs": [],
   "source": []
  },
  {
   "cell_type": "code",
   "execution_count": null,
   "id": "cf0982a0",
   "metadata": {},
   "outputs": [],
   "source": []
  },
  {
   "cell_type": "code",
   "execution_count": null,
   "id": "3dfc7b6b",
   "metadata": {},
   "outputs": [],
   "source": []
  },
  {
   "cell_type": "code",
   "execution_count": null,
   "id": "eae3ae32",
   "metadata": {},
   "outputs": [],
   "source": []
  },
  {
   "cell_type": "code",
   "execution_count": null,
   "id": "f37e5e2f",
   "metadata": {},
   "outputs": [],
   "source": []
  },
  {
   "cell_type": "code",
   "execution_count": null,
   "id": "f1f03b59",
   "metadata": {},
   "outputs": [],
   "source": []
  }
 ],
 "metadata": {
  "kernelspec": {
   "display_name": "ComputerVision",
   "language": "python",
   "name": "computervision"
  },
  "language_info": {
   "codemirror_mode": {
    "name": "ipython",
    "version": 3
   },
   "file_extension": ".py",
   "mimetype": "text/x-python",
   "name": "python",
   "nbconvert_exporter": "python",
   "pygments_lexer": "ipython3",
   "version": "3.8.8"
  }
 },
 "nbformat": 4,
 "nbformat_minor": 5
}
