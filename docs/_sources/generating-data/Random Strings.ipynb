{
 "cells": [
  {
   "cell_type": "markdown",
   "id": "d55cf364",
   "metadata": {},
   "source": [
    "# Random strings"
   ]
  },
  {
   "cell_type": "code",
   "execution_count": 2,
   "id": "d281c3cf",
   "metadata": {},
   "outputs": [],
   "source": [
    "import matplotlib.pyplot as plt\n",
    "import random\n",
    "import string"
   ]
  },
  {
   "cell_type": "markdown",
   "id": "d4e3a688",
   "metadata": {},
   "source": [
    "To generate random strings, we'll need to utitize Python's `string` and `random` modules together. The `string` module provides constants such as ASCII letters (`ascii_letters`), digits, and punctuations."
   ]
  },
  {
   "cell_type": "code",
   "execution_count": 228,
   "id": "60eb23aa",
   "metadata": {},
   "outputs": [
    {
     "data": {
      "text/plain": [
       "'abcdefghijklmnopqrstuvwxyzABCDEFGHIJKLMNOPQRSTUVWXYZ'"
      ]
     },
     "execution_count": 228,
     "metadata": {},
     "output_type": "execute_result"
    }
   ],
   "source": [
    "string.ascii_letters"
   ]
  },
  {
   "cell_type": "code",
   "execution_count": 229,
   "id": "7b51fc92",
   "metadata": {},
   "outputs": [
    {
     "data": {
      "text/plain": [
       "'0123456789'"
      ]
     },
     "execution_count": 229,
     "metadata": {},
     "output_type": "execute_result"
    }
   ],
   "source": [
    "string.digits"
   ]
  },
  {
   "cell_type": "code",
   "execution_count": 230,
   "id": "7156a3a4",
   "metadata": {},
   "outputs": [
    {
     "data": {
      "text/plain": [
       "'!\"#$%&\\'()*+,-./:;<=>?@[\\\\]^_`{|}~'"
      ]
     },
     "execution_count": 230,
     "metadata": {},
     "output_type": "execute_result"
    }
   ],
   "source": [
    "string.punctuation"
   ]
  },
  {
   "cell_type": "markdown",
   "id": "219babea",
   "metadata": {},
   "source": [
    "Say we need to generate a password of a specified length using a random combination of lowercase ascii characters, digits, and punctuation. We can use either `choices()` or `sample()` to grab our random characters.\n",
    "\n",
    "The following function takes a parameter _k_ which specifies the length of the string to be generated (by default 12). It then stores a set of available characters to choose from in the _char_pool_ variable. Depending on whether we want duplicates or not, the function can use `sample()` or `choices()` to take samples from the characters in _char_pool_. This function needs to return a string, so since both `sample()` and `choices()` return an array, then we use the `join()` function to glue the values together into a single string."
   ]
  },
  {
   "cell_type": "code",
   "execution_count": 91,
   "id": "2d04defa",
   "metadata": {},
   "outputs": [],
   "source": [
    "def generate_random_str(k=12):\n",
    "    char_pool = set(string.ascii_letters + string.digits + string.punctuation)\n",
    "    \n",
    "    random_str = random.sample(char_pool, k)\n",
    "    # random_str = random.choices(char_pool, k=k)  # alternatively use choices() to allow duplicate chars\n",
    "\n",
    "    return ''.join(random_str)"
   ]
  },
  {
   "cell_type": "code",
   "execution_count": 94,
   "id": "cf293863",
   "metadata": {},
   "outputs": [
    {
     "data": {
      "text/plain": [
       "'ZsId(3TW}`5#'"
      ]
     },
     "execution_count": 94,
     "metadata": {},
     "output_type": "execute_result"
    }
   ],
   "source": [
    "generate_random_str()"
   ]
  },
  {
   "cell_type": "markdown",
   "id": "9042e0e3",
   "metadata": {},
   "source": [
    "Then similarly with numbers, we can use list comprehension to generate n number of random strings."
   ]
  },
  {
   "cell_type": "code",
   "execution_count": 96,
   "id": "48db7e85",
   "metadata": {},
   "outputs": [
    {
     "data": {
      "text/plain": [
       "['/`^b8!I,)_C-',\n",
       " 'mlzvAG&4T7Qr',\n",
       " '8\\\\i:,QUJPh5{',\n",
       " \"#'VFsM)Z5JkN\",\n",
       " 'j6YOs<Sg{b,Q']"
      ]
     },
     "execution_count": 96,
     "metadata": {},
     "output_type": "execute_result"
    }
   ],
   "source": [
    "# Generate 5 random strings\n",
    "[generate_random_str() for _ in range(5)]"
   ]
  },
  {
   "cell_type": "code",
   "execution_count": null,
   "id": "a03551d6",
   "metadata": {},
   "outputs": [],
   "source": []
  },
  {
   "cell_type": "markdown",
   "id": "8f787877",
   "metadata": {},
   "source": [
    "## Cryptographically safe random strings"
   ]
  },
  {
   "cell_type": "markdown",
   "id": "94cdf9ce",
   "metadata": {},
   "source": [
    "Sometimes it's not enough to generate random strings using pseudo-random functions, which output numbers deterministically. Some systems require random strings like passwords to be generated in a secure way (i.e., the function that generated them would be difficult to impossible to infer). We can quickly whip up cryptographically secure strings using Python's `secrets` module."
   ]
  },
  {
   "cell_type": "code",
   "execution_count": 98,
   "id": "8762a204",
   "metadata": {},
   "outputs": [],
   "source": [
    "import secrets"
   ]
  },
  {
   "cell_type": "code",
   "execution_count": 99,
   "id": "bacf3063",
   "metadata": {},
   "outputs": [
    {
     "data": {
      "text/plain": [
       "'Vfdt*xwAcV6@'"
      ]
     },
     "execution_count": 99,
     "metadata": {},
     "output_type": "execute_result"
    }
   ],
   "source": [
    "char_pool = string.ascii_letters + string.digits + string.punctuation\n",
    "\n",
    "''.join(secrets.choice(char_pool) for _ in range(12))"
   ]
  },
  {
   "cell_type": "markdown",
   "id": "4af13f21",
   "metadata": {},
   "source": [
    "We can use this to generate real passwords that follow some security rules, like the one below where the password needs to have at least one digit, at least 2 uppercase letters, and at least 3 lowercase characters."
   ]
  },
  {
   "cell_type": "code",
   "execution_count": 105,
   "id": "e0cc2755",
   "metadata": {},
   "outputs": [
    {
     "name": "stdout",
     "output_type": "stream",
     "text": [
      "h9Mtvow>)Ggb\n"
     ]
    }
   ],
   "source": [
    "# Keep generating strings until one satisfies all of the constraints\n",
    "while True:\n",
    "    secret = ''.join(secrets.choice(char_pool) for _ in range(12))\n",
    "    if (any(c.isdigit() for c in secret)) and \\\n",
    "       (sum(c.isupper() for c in secret) >= 2) and \\\n",
    "       (sum(c.islower() for c in secret) >= 3):\n",
    "        print(secret)\n",
    "        break"
   ]
  },
  {
   "cell_type": "code",
   "execution_count": null,
   "id": "08556e5e",
   "metadata": {},
   "outputs": [],
   "source": []
  }
 ],
 "metadata": {
  "kernelspec": {
   "display_name": "ComputerVision",
   "language": "python",
   "name": "computervision"
  },
  "language_info": {
   "codemirror_mode": {
    "name": "ipython",
    "version": 3
   },
   "file_extension": ".py",
   "mimetype": "text/x-python",
   "name": "python",
   "nbconvert_exporter": "python",
   "pygments_lexer": "ipython3",
   "version": "3.8.8"
  }
 },
 "nbformat": 4,
 "nbformat_minor": 5
}
