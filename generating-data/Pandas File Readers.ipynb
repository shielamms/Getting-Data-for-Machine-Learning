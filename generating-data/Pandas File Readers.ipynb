{
 "cells": [
  {
   "cell_type": "markdown",
   "id": "f4f85151",
   "metadata": {},
   "source": [
    "# Pandas File Readers"
   ]
  },
  {
   "cell_type": "code",
   "execution_count": null,
   "id": "b7e35515",
   "metadata": {},
   "outputs": [],
   "source": []
  }
 ],
 "metadata": {
  "kernelspec": {
   "display_name": "jupyter-books",
   "language": "python",
   "name": "jupyter-books"
  },
  "language_info": {
   "codemirror_mode": {
    "name": "ipython",
    "version": 3
   },
   "file_extension": ".py",
   "mimetype": "text/x-python",
   "name": "python",
   "nbconvert_exporter": "python",
   "pygments_lexer": "ipython3",
   "version": "3.8.8"
  }
 },
 "nbformat": 4,
 "nbformat_minor": 5
}
